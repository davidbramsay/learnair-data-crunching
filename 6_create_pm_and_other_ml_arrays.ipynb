{
 "cells": [
  {
   "cell_type": "code",
   "execution_count": null,
   "metadata": {
    "collapsed": true
   },
   "outputs": [],
   "source": [
    "import pandas as pd\n",
    "from dateutil import parser\n",
    "import datetime\n",
    "import pytz\n",
    "\n",
    "localtz = pytz.timezone('US/Eastern')\n",
    "\n",
    "sns.set(style='white', palette='Set2')\n",
    "\n",
    "df = pd.read_pickle('full_mlarray.pkl')\n",
    "\n",
    "df.index = df.index.tz_convert('US/Eastern')"
   ]
  },
  {
   "cell_type": "code",
   "execution_count": null,
   "metadata": {
    "collapsed": true
   },
   "outputs": [],
   "source": [
    "#for pm_mlarray, cut down to hour resolution\n",
    "\n",
    "#resample columns by hour, just to get the right structure.  This averages values over the hour.\n",
    "pm_array = fullset.resample('60T',base=0).mean()\n",
    "\n",
    "#for the particulate, we only want to use the values 0-50min on every hour.  10am captures 10:00-10:50am\n",
    "first_hour = fullset.index[0].replace(minute=0, second=0, microsecond=0)\n",
    "final_hour = fullset.index[-1].replace(minute=0, second=0, microsecond=0)\n",
    "t_delta = datetime.timedelta(minutes=49)\n",
    "t_step = datetime.timedelta(hours=1)\n",
    "\n",
    "print first_hour\n",
    "print final_hour\n",
    "print first_hour + t_delta\n",
    "print first_hour + t_step\n",
    "\n",
    "print len(pm_array)\n",
    "\n",
    "\n",
    "\n",
    "for col in fullset.columns.values:\n",
    "        \n",
    "        next_col = []\n",
    "        current_hour = first_hour\n",
    "        \n",
    "        while current_hour <= final_hour:\n",
    "            next_col.append(fullset.ix[current_hour:current_hour+t_delta][col].sum())\n",
    "            current_hour = current_hour + t_step\n",
    "\n",
    "        pm_array[col] = next_col\n",
    "        \n",
    "#currently it sums over the 50 minute period.  If we want an average, we need to divide by 50.  This will do that\n",
    "#for the provided columns:\n",
    "print pm_array.columns.values\n",
    "\n",
    "#cols_to_average= []\n",
    "cols_to_average = pm_array.columns.values\n",
    "\n",
    "for col in cols_to_average:\n",
    "    pm_array[col] = pm_array[col]/50.0\n",
    "\n",
    "\n",
    "\n",
    "pm_array.tail(5)"
   ]
  },
  {
   "cell_type": "code",
   "execution_count": null,
   "metadata": {
    "collapsed": true
   },
   "outputs": [],
   "source": [
    "#Save Everything\n",
    "\n",
    "as_breaktime = datetime.datetime(2016,5,23,21,40)\n",
    "sck_breaktime = datetime.datetime(2016,6,6,8,52)\n",
    "\n",
    "\n",
    "#particulate array\n",
    "pm_array.to_pickle('pm_mlarray.pkl')\n",
    "print len(pm_array)\n",
    "\n",
    "#sck array\n",
    "fullset.ix[:sck_breaktime].to_pickle('sck_mlarray.pkl')\n",
    "print len(fullset.ix[:sck_breaktime])\n",
    "\n",
    "#alphasense 1 array\n",
    "fullset.ix[:as_breaktime].to_pickle('as1_mlarray.pkl')\n",
    "print len(fullset.ix[:as_breaktime])\n",
    "\n",
    "#alphasense 2 array\n",
    "fullset.ix[as_breaktime:].to_pickle('as2_mlarray.pkl')\n",
    "print len(fullset.ix[as_breaktime:])\n"
   ]
  }
 ],
 "metadata": {
  "kernelspec": {
   "display_name": "Python 2",
   "language": "python",
   "name": "python2"
  },
  "language_info": {
   "codemirror_mode": {
    "name": "ipython",
    "version": 2
   },
   "file_extension": ".py",
   "mimetype": "text/x-python",
   "name": "python",
   "nbconvert_exporter": "python",
   "pygments_lexer": "ipython2",
   "version": "2.7.10"
  }
 },
 "nbformat": 4,
 "nbformat_minor": 0
}
