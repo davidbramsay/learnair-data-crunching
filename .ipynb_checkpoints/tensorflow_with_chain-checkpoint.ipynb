{
 "cells": [
  {
   "cell_type": "code",
   "execution_count": 37,
   "metadata": {
    "collapsed": false
   },
   "outputs": [
    {
     "data": {
      "text/plain": [
       "\"result should be:\\n ['a', 'b', bb', 'ab']\\n [1 2 None None \\n  5 6 None None\\n  6 7 None None\\n  1 2 None None\\n  1 None 2 None\\n  None 2 None 1]\\n  \\n  measures should be stored as:\\n  [{'c':3, 'd':4, 'cd':None}, {'c':7, 'd':8, 'cd':None}... ]\\n\""
      ]
     },
     "execution_count": 37,
     "metadata": {},
     "output_type": "execute_result"
    }
   ],
   "source": [
    "#goal is to get conditions/measures array into tensorflow form\n",
    "#and run logistic regression on them\n",
    "\n",
    "import tensorflow as tf\n",
    "import numpy as np\n",
    "\n",
    "test_ml_array= [{'conditions':{'a':1,'b':2},'measures':{'c':3,'d':4}},\n",
    "                {'conditions':{'a':5,'b':6},'measures':{'c':7,'d':8}},\n",
    "                {'conditions':{'b':7,'a':6},'measures':{'c':8,'d':9}},\n",
    "                {'conditions':{'b':2,'a':1},'measures':{'d':4,'c':3}},\n",
    "                {'conditions':{'a':1,'bb':2},'measures':{'c':None,'d':4}},\n",
    "                {'conditions':{'ab':1,'b':2},'measures':{'cd':4,'d':None}}]\n",
    "\n",
    "data = test_ml_array\n",
    "empty_val = 'nan'\n",
    "\n",
    "'''result should be:\n",
    " ['a', 'b', bb', 'ab']\n",
    " [1 2 None None \n",
    "  5 6 None None\n",
    "  6 7 None None\n",
    "  1 2 None None\n",
    "  1 None 2 None\n",
    "  None 2 None 1]\n",
    "  \n",
    "  measures should be stored as:\n",
    "  [{'c':3, 'd':4, 'cd':None}, {'c':7, 'd':8, 'cd':None}... ]\n",
    "'''"
   ]
  },
  {
   "cell_type": "code",
   "execution_count": 14,
   "metadata": {
    "collapsed": false
   },
   "outputs": [
    {
     "name": "stdout",
     "output_type": "stream",
     "text": [
      "['a', 'b', 'ab', 'bb']\n",
      "['c', 'd', 'cd']\n"
     ]
    }
   ],
   "source": [
    "ckeys = [list(d['conditions'].keys()) for d in data]\n",
    "ckeys = {itm for innerlist in ckeys for itm in innerlist}\n",
    "\n",
    "mkeys = [list(d['measures'].keys()) for d in data]\n",
    "mkeys = {itm for innerlist in mkeys for itm in innerlist}\n",
    "mkeys = list(mkeys)\n",
    "\n",
    "filterCkeys = set(['lat','lon','elev'])\n",
    "\n",
    "ckeys.difference_update(filterCkeys)\n",
    "ckeys=list(ckeys)\n",
    "\n",
    "print ckeys\n",
    "print mkeys"
   ]
  },
  {
   "cell_type": "code",
   "execution_count": 40,
   "metadata": {
    "collapsed": false
   },
   "outputs": [
    {
     "name": "stdout",
     "output_type": "stream",
     "text": [
      "['a', 'b', 'ab', 'bb']\n",
      "[[  1.   2.  nan  nan]\n",
      " [  5.   6.  nan  nan]\n",
      " [  6.   7.  nan  nan]\n",
      " [  1.   2.  nan  nan]\n",
      " [  1.  nan  nan   2.]\n",
      " [ nan   2.   1.  nan]]\n"
     ]
    }
   ],
   "source": [
    "#also get extra measures that match lat/lon/timestamp\n",
    "\n",
    "final_carray = np.empty([len(data),len(ckeys)])\n",
    "\n",
    "for rowind, row in enumerate(data):\n",
    "    #construct the conditions matrix\n",
    "    for ind, val in enumerate(ckeys):\n",
    "        try:\n",
    "            final_carray[rowind, ind] = row['conditions'][val]\n",
    "        except:\n",
    "            final_carray[rowind, ind] = empty_val\n",
    "    \n",
    "    #construct the measures matrix\n",
    "    \n",
    "    #pull extra measures and add for each lat/lon/timestamp\n",
    "    print row['conditions']['lat'], row['conditions']['lon'], row['conditions']['elev']\n",
    "    \n",
    "    \n",
    "print ckeys\n",
    "print final_carray\n",
    "\n"
   ]
  }
 ],
 "metadata": {
  "kernelspec": {
   "display_name": "Python 2",
   "language": "python",
   "name": "python2"
  },
  "language_info": {
   "codemirror_mode": {
    "name": "ipython",
    "version": 2
   },
   "file_extension": ".py",
   "mimetype": "text/x-python",
   "name": "python",
   "nbconvert_exporter": "python",
   "pygments_lexer": "ipython2",
   "version": "2.7.10"
  }
 },
 "nbformat": 4,
 "nbformat_minor": 0
}
