{
 "cells": [
  {
   "cell_type": "code",
   "execution_count": 37,
   "metadata": {
    "collapsed": false
   },
   "outputs": [
    {
     "data": {
      "text/plain": [
       "\"result should be:\\n ['a', 'b', bb', 'ab']\\n [1 2 None None \\n  5 6 None None\\n  6 7 None None\\n  1 2 None None\\n  1 None 2 None\\n  None 2 None 1]\\n  \\n  measures should be stored as:\\n  [{'c':3, 'd':4, 'cd':None}, {'c':7, 'd':8, 'cd':None}... ]\\n\""
      ]
     },
     "execution_count": 37,
     "metadata": {},
     "output_type": "execute_result"
    }
   ],
   "source": [
    "#goal is to get conditions/measures array into tensorflow form\n",
    "#and run logistic regression on them\n",
    "\n",
    "import tensorflow as tf\n",
    "import numpy as np\n",
    "\n",
    "test_ml_array= [{'conditions':{'a':1,'b':2},'measures':{'c':3,'d':4}},\n",
    "                {'conditions':{'a':5,'b':6},'measures':{'c':7,'d':8}},\n",
    "                {'conditions':{'b':7,'a':6},'measures':{'c':8,'d':9}},\n",
    "                {'conditions':{'b':2,'a':1},'measures':{'d':4,'c':3}},\n",
    "                {'conditions':{'a':1,'bb':2},'measures':{'c':None,'d':4}},\n",
    "                {'conditions':{'ab':1,'b':2},'measures':{'cd':4,'d':None}}]\n",
    "\n",
    "data = test_ml_array\n",
    "\n",
    "#value to replace 'None'/nonexistant conditions with in ml array\n",
    "empty_val = 'nan'\n",
    "\n",
    "#keys in conditions array that we want *not* to be part of the ml array\n",
    "filterCkeys = set(['lat','lon','elev'])\n",
    "\n",
    "#threshold of accuracy, % tolerance around actual measurement to be considered correct.\n",
    "thresh_accuracy = 0.05\n",
    "\n",
    "#specify which can be compared against, in order from best to worst.\n",
    "['AlphasenseAFETemp', 'AlphasenseAFETemp2']  # assume the units must match to compare\n",
    "\n",
    "\n",
    "'''result should be:\n",
    " ['a', 'b', bb', 'ab']\n",
    " [1 2 None None \n",
    "  5 6 None None\n",
    "  6 7 None None\n",
    "  1 2 None None\n",
    "  1 None 2 None\n",
    "  None 2 None 1]\n",
    "  \n",
    "'''"
   ]
  },
  {
   "cell_type": "code",
   "execution_count": 14,
   "metadata": {
    "collapsed": false
   },
   "outputs": [
    {
     "name": "stdout",
     "output_type": "stream",
     "text": [
      "['a', 'b', 'ab', 'bb']\n",
      "['c', 'd', 'cd']\n"
     ]
    }
   ],
   "source": [
    "ckeys = [list(d['conditions'].keys()) for d in data]\n",
    "ckeys = {itm for innerlist in ckeys for itm in innerlist}\n",
    "\n",
    "mkeys = [list(d['measures'].keys()) for d in data]\n",
    "mkeys = {itm for innerlist in mkeys for itm in innerlist}\n",
    "mkeys = list(mkeys)\n",
    "\n",
    "ckeys.difference_update(filterCkeys)\n",
    "ckeys=list(ckeys)\n",
    "\n",
    "print ckeys\n",
    "print mkeys"
   ]
  },
  {
   "cell_type": "code",
   "execution_count": 44,
   "metadata": {
    "collapsed": false
   },
   "outputs": [
    {
     "name": "stdout",
     "output_type": "stream",
     "text": [
      "['a', 'b', 'ab', 'bb']\n",
      "[[  1.   2.  nan  nan]\n",
      " [  5.   6.  nan  nan]\n",
      " [  6.   7.  nan  nan]\n",
      " [  1.   2.  nan  nan]\n",
      " [  1.  nan  nan   2.]\n",
      " [ nan   2.   1.  nan]]\n"
     ]
    }
   ],
   "source": [
    "#also get extra measures that match lat/lon/timestamp\n",
    "\n",
    "final_carray = np.empty([len(data),len(ckeys)])\n",
    "final_marray = np.empty([len(data),2])\n",
    "\n",
    "for rowind, row in enumerate(data):\n",
    "    #construct the conditions matrix\n",
    "    for ind, val in enumerate(ckeys):\n",
    "        try:\n",
    "            final_carray[rowind, ind] = row['conditions'][val]\n",
    "        except:\n",
    "            final_carray[rowind, ind] = empty_val\n",
    "    \n",
    "    #construct the measures matrix\n",
    "    \n",
    "    \n",
    "    \n",
    "    #pull best comparison value from table if available, then check next\n",
    "    #get values that match, row['conditions']['lat'], row['conditions']['lon'], row['conditions']['timestamp']\n",
    "    #make sure units match\n",
    "    #if none found, make [0,0]\n",
    "    #apply tolerance to best comparison value, check if we're in range, if so [1,0] else [0,1]\n",
    "    \n",
    "    #remove rows from both where final is [0,0]\n",
    "    \n",
    "print ckeys\n",
    "print final_carray\n",
    "\n"
   ]
  }
 ],
 "metadata": {
  "kernelspec": {
   "display_name": "Python 2",
   "language": "python",
   "name": "python2"
  },
  "language_info": {
   "codemirror_mode": {
    "name": "ipython",
    "version": 2
   },
   "file_extension": ".py",
   "mimetype": "text/x-python",
   "name": "python",
   "nbconvert_exporter": "python",
   "pygments_lexer": "ipython2",
   "version": "2.7.10"
  }
 },
 "nbformat": 4,
 "nbformat_minor": 0
}
